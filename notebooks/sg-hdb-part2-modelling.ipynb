{
 "cells": [
  {
   "cell_type": "markdown",
   "metadata": {},
   "source": [
    "<img src=\"https://gallery.mailchimp.com/f98d5ac0a3fbbdcdda35136ab/images/2002af76-5fd4-4185-9d49-28558b6b8772.png\">"
   ]
  },
  {
   "cell_type": "markdown",
   "metadata": {},
   "source": [
    "# `sg-hdb-resale-abr` \n",
    "# Part 2: Model Training\n",
    "What we have done so far is to extract data from the .csv files, do some preliminary transformation to the data, and then loading all of it into an SQLite database. The next step is to work towards creating a simple predictive model for us to predict the price of a resale HDB unit. The following cells will have us load data from the SQLite database, that we have previously created."
   ]
  },
  {
   "cell_type": "code",
   "execution_count": 1,
   "metadata": {
    "pycharm": {
     "is_executing": false
    }
   },
   "outputs": [],
   "source": [
    "# Import relevant packages\n",
    "import pandas as pd\n",
    "from sqlalchemy import create_engine"
   ]
  },
  {
   "cell_type": "code",
   "execution_count": 2,
   "metadata": {
    "pycharm": {
     "is_executing": false
    }
   },
   "outputs": [],
   "source": [
    "# Initialise engine\n",
    "engine = create_engine('sqlite:///../data/processed/sg_hdb.db')\n",
    "\n",
    "# Simple query to get the whole table\n",
    "query = \"SELECT * FROM sg_hdb_resale\"\n",
    "\n",
    "# Store result of query in a pandas dataframe\n",
    "df = pd.read_sql_query(query, engine)"
   ]
  },
  {
   "cell_type": "code",
   "execution_count": 3,
   "metadata": {
    "pycharm": {
     "is_executing": false
    }
   },
   "outputs": [
    {
     "data": {
      "text/html": [
       "<div>\n",
       "<style scoped>\n",
       "    .dataframe tbody tr th:only-of-type {\n",
       "        vertical-align: middle;\n",
       "    }\n",
       "\n",
       "    .dataframe tbody tr th {\n",
       "        vertical-align: top;\n",
       "    }\n",
       "\n",
       "    .dataframe thead th {\n",
       "        text-align: right;\n",
       "    }\n",
       "</style>\n",
       "<table border=\"1\" class=\"dataframe\">\n",
       "  <thead>\n",
       "    <tr style=\"text-align: right;\">\n",
       "      <th></th>\n",
       "      <th>id</th>\n",
       "      <th>block</th>\n",
       "      <th>flat_model</th>\n",
       "      <th>flat_type</th>\n",
       "      <th>floor_area_sqm</th>\n",
       "      <th>lease_commence_date</th>\n",
       "      <th>month</th>\n",
       "      <th>remaining_lease</th>\n",
       "      <th>resale_price</th>\n",
       "      <th>storey_range</th>\n",
       "      <th>street_name</th>\n",
       "      <th>town</th>\n",
       "    </tr>\n",
       "  </thead>\n",
       "  <tbody>\n",
       "    <tr>\n",
       "      <td>0</td>\n",
       "      <td>1</td>\n",
       "      <td>309</td>\n",
       "      <td>improved</td>\n",
       "      <td>1 ROOM</td>\n",
       "      <td>31.0</td>\n",
       "      <td>1977</td>\n",
       "      <td>1990-01</td>\n",
       "      <td>0</td>\n",
       "      <td>9000.0</td>\n",
       "      <td>10 TO 12</td>\n",
       "      <td>ANG MO KIO AVE 1</td>\n",
       "      <td>ANG MO KIO</td>\n",
       "    </tr>\n",
       "    <tr>\n",
       "      <td>1</td>\n",
       "      <td>2</td>\n",
       "      <td>309</td>\n",
       "      <td>improved</td>\n",
       "      <td>1 ROOM</td>\n",
       "      <td>31.0</td>\n",
       "      <td>1977</td>\n",
       "      <td>1990-01</td>\n",
       "      <td>0</td>\n",
       "      <td>6000.0</td>\n",
       "      <td>04 TO 06</td>\n",
       "      <td>ANG MO KIO AVE 1</td>\n",
       "      <td>ANG MO KIO</td>\n",
       "    </tr>\n",
       "    <tr>\n",
       "      <td>2</td>\n",
       "      <td>3</td>\n",
       "      <td>309</td>\n",
       "      <td>improved</td>\n",
       "      <td>1 ROOM</td>\n",
       "      <td>31.0</td>\n",
       "      <td>1977</td>\n",
       "      <td>1990-01</td>\n",
       "      <td>0</td>\n",
       "      <td>8000.0</td>\n",
       "      <td>10 TO 12</td>\n",
       "      <td>ANG MO KIO AVE 1</td>\n",
       "      <td>ANG MO KIO</td>\n",
       "    </tr>\n",
       "    <tr>\n",
       "      <td>3</td>\n",
       "      <td>4</td>\n",
       "      <td>309</td>\n",
       "      <td>improved</td>\n",
       "      <td>1 ROOM</td>\n",
       "      <td>31.0</td>\n",
       "      <td>1977</td>\n",
       "      <td>1990-01</td>\n",
       "      <td>0</td>\n",
       "      <td>6000.0</td>\n",
       "      <td>07 TO 09</td>\n",
       "      <td>ANG MO KIO AVE 1</td>\n",
       "      <td>ANG MO KIO</td>\n",
       "    </tr>\n",
       "    <tr>\n",
       "      <td>4</td>\n",
       "      <td>5</td>\n",
       "      <td>216</td>\n",
       "      <td>new generation</td>\n",
       "      <td>3 ROOM</td>\n",
       "      <td>73.0</td>\n",
       "      <td>1976</td>\n",
       "      <td>1990-01</td>\n",
       "      <td>0</td>\n",
       "      <td>47200.0</td>\n",
       "      <td>04 TO 06</td>\n",
       "      <td>ANG MO KIO AVE 1</td>\n",
       "      <td>ANG MO KIO</td>\n",
       "    </tr>\n",
       "    <tr>\n",
       "      <td>...</td>\n",
       "      <td>...</td>\n",
       "      <td>...</td>\n",
       "      <td>...</td>\n",
       "      <td>...</td>\n",
       "      <td>...</td>\n",
       "      <td>...</td>\n",
       "      <td>...</td>\n",
       "      <td>...</td>\n",
       "      <td>...</td>\n",
       "      <td>...</td>\n",
       "      <td>...</td>\n",
       "      <td>...</td>\n",
       "    </tr>\n",
       "    <tr>\n",
       "      <td>790638</td>\n",
       "      <td>790639</td>\n",
       "      <td>816</td>\n",
       "      <td>improved</td>\n",
       "      <td>5 ROOM</td>\n",
       "      <td>122.0</td>\n",
       "      <td>1988</td>\n",
       "      <td>2014-12</td>\n",
       "      <td>0</td>\n",
       "      <td>580000.0</td>\n",
       "      <td>10 TO 12</td>\n",
       "      <td>YISHUN ST 81</td>\n",
       "      <td>YISHUN</td>\n",
       "    </tr>\n",
       "    <tr>\n",
       "      <td>790639</td>\n",
       "      <td>790640</td>\n",
       "      <td>325</td>\n",
       "      <td>maisonette</td>\n",
       "      <td>EXECUTIVE</td>\n",
       "      <td>146.0</td>\n",
       "      <td>1988</td>\n",
       "      <td>2014-12</td>\n",
       "      <td>0</td>\n",
       "      <td>540000.0</td>\n",
       "      <td>10 TO 12</td>\n",
       "      <td>YISHUN CTRL</td>\n",
       "      <td>YISHUN</td>\n",
       "    </tr>\n",
       "    <tr>\n",
       "      <td>790640</td>\n",
       "      <td>790641</td>\n",
       "      <td>618</td>\n",
       "      <td>apartment</td>\n",
       "      <td>EXECUTIVE</td>\n",
       "      <td>164.0</td>\n",
       "      <td>1992</td>\n",
       "      <td>2014-12</td>\n",
       "      <td>0</td>\n",
       "      <td>738000.0</td>\n",
       "      <td>07 TO 09</td>\n",
       "      <td>YISHUN RING RD</td>\n",
       "      <td>YISHUN</td>\n",
       "    </tr>\n",
       "    <tr>\n",
       "      <td>790641</td>\n",
       "      <td>790642</td>\n",
       "      <td>277</td>\n",
       "      <td>maisonette</td>\n",
       "      <td>EXECUTIVE</td>\n",
       "      <td>152.0</td>\n",
       "      <td>1985</td>\n",
       "      <td>2014-12</td>\n",
       "      <td>0</td>\n",
       "      <td>592000.0</td>\n",
       "      <td>07 TO 09</td>\n",
       "      <td>YISHUN ST 22</td>\n",
       "      <td>YISHUN</td>\n",
       "    </tr>\n",
       "    <tr>\n",
       "      <td>790642</td>\n",
       "      <td>790643</td>\n",
       "      <td>277</td>\n",
       "      <td>maisonette</td>\n",
       "      <td>EXECUTIVE</td>\n",
       "      <td>146.0</td>\n",
       "      <td>1985</td>\n",
       "      <td>2014-12</td>\n",
       "      <td>0</td>\n",
       "      <td>545000.0</td>\n",
       "      <td>04 TO 06</td>\n",
       "      <td>YISHUN ST 22</td>\n",
       "      <td>YISHUN</td>\n",
       "    </tr>\n",
       "  </tbody>\n",
       "</table>\n",
       "<p>790643 rows × 12 columns</p>\n",
       "</div>"
      ],
      "text/plain": [
       "            id block      flat_model  flat_type  floor_area_sqm  \\\n",
       "0            1   309        improved     1 ROOM            31.0   \n",
       "1            2   309        improved     1 ROOM            31.0   \n",
       "2            3   309        improved     1 ROOM            31.0   \n",
       "3            4   309        improved     1 ROOM            31.0   \n",
       "4            5   216  new generation     3 ROOM            73.0   \n",
       "...        ...   ...             ...        ...             ...   \n",
       "790638  790639   816        improved     5 ROOM           122.0   \n",
       "790639  790640   325      maisonette  EXECUTIVE           146.0   \n",
       "790640  790641   618       apartment  EXECUTIVE           164.0   \n",
       "790641  790642   277      maisonette  EXECUTIVE           152.0   \n",
       "790642  790643   277      maisonette  EXECUTIVE           146.0   \n",
       "\n",
       "        lease_commence_date    month  remaining_lease  resale_price  \\\n",
       "0                      1977  1990-01                0        9000.0   \n",
       "1                      1977  1990-01                0        6000.0   \n",
       "2                      1977  1990-01                0        8000.0   \n",
       "3                      1977  1990-01                0        6000.0   \n",
       "4                      1976  1990-01                0       47200.0   \n",
       "...                     ...      ...              ...           ...   \n",
       "790638                 1988  2014-12                0      580000.0   \n",
       "790639                 1988  2014-12                0      540000.0   \n",
       "790640                 1992  2014-12                0      738000.0   \n",
       "790641                 1985  2014-12                0      592000.0   \n",
       "790642                 1985  2014-12                0      545000.0   \n",
       "\n",
       "       storey_range       street_name        town  \n",
       "0          10 TO 12  ANG MO KIO AVE 1  ANG MO KIO  \n",
       "1          04 TO 06  ANG MO KIO AVE 1  ANG MO KIO  \n",
       "2          10 TO 12  ANG MO KIO AVE 1  ANG MO KIO  \n",
       "3          07 TO 09  ANG MO KIO AVE 1  ANG MO KIO  \n",
       "4          04 TO 06  ANG MO KIO AVE 1  ANG MO KIO  \n",
       "...             ...               ...         ...  \n",
       "790638     10 TO 12      YISHUN ST 81      YISHUN  \n",
       "790639     10 TO 12       YISHUN CTRL      YISHUN  \n",
       "790640     07 TO 09    YISHUN RING RD      YISHUN  \n",
       "790641     07 TO 09      YISHUN ST 22      YISHUN  \n",
       "790642     04 TO 06      YISHUN ST 22      YISHUN  \n",
       "\n",
       "[790643 rows x 12 columns]"
      ]
     },
     "execution_count": 3,
     "metadata": {},
     "output_type": "execute_result"
    }
   ],
   "source": [
    "# Observe result of query executed\n",
    "df"
   ]
  },
  {
   "cell_type": "markdown",
   "metadata": {},
   "source": [
    "We are first going to inspect the data types of the imported dataframe."
   ]
  },
  {
   "cell_type": "code",
   "execution_count": 12,
   "metadata": {
    "pycharm": {
     "is_executing": false
    }
   },
   "outputs": [
    {
     "name": "stdout",
     "output_type": "stream",
     "text": [
      "<class 'pandas.core.frame.DataFrame'>\n",
      "RangeIndex: 790643 entries, 0 to 790642\n",
      "Data columns (total 12 columns):\n",
      "id                     790643 non-null int64\n",
      "block                  790643 non-null object\n",
      "flat_model             790643 non-null object\n",
      "flat_type              790643 non-null object\n",
      "floor_area_sqm         790643 non-null float64\n",
      "lease_commence_date    790643 non-null int64\n",
      "month                  790643 non-null object\n",
      "remaining_lease        790643 non-null int64\n",
      "resale_price           790643 non-null float64\n",
      "storey_range           790643 non-null object\n",
      "street_name            790643 non-null object\n",
      "town                   790643 non-null object\n",
      "dtypes: float64(2), int64(3), object(7)\n",
      "memory usage: 72.4+ MB\n"
     ]
    }
   ],
   "source": [
    "df.info()"
   ]
  },
  {
   "cell_type": "markdown",
   "metadata": {},
   "source": [
    "Now, we create 2 separate series containing the predictor and response values to train our model on."
   ]
  },
  {
   "cell_type": "code",
   "execution_count": 14,
   "metadata": {
    "pycharm": {
     "is_executing": false
    }
   },
   "outputs": [],
   "source": [
    "sg_hdb_x = df['floor_area_sqm'].values\n",
    "sg_hdb_y = df['resale_price'].values"
   ]
  },
  {
   "cell_type": "code",
   "execution_count": 15,
   "metadata": {
    "pycharm": {
     "is_executing": false
    }
   },
   "outputs": [],
   "source": [
    "# Import the relevant packages\n",
    "import numpy as np\n",
    "import sklearn\n",
    "from sklearn import model_selection\n",
    "from sklearn.linear_model import LinearRegression\n",
    "from sklearn.metrics import mean_squared_error, r2_score\n",
    "import pickle\n",
    "from matplotlib import pyplot as plt"
   ]
  },
  {
   "cell_type": "markdown",
   "metadata": {},
   "source": [
    "When training a model, we have to create a train-test split to check the accuracy/performance of the model."
   ]
  },
  {
   "cell_type": "code",
   "execution_count": 16,
   "metadata": {
    "pycharm": {
     "is_executing": false
    }
   },
   "outputs": [],
   "source": [
    "sg_hdb_x_train, sg_hdb_x_test, sg_hdb_y_train, sg_hdb_y_test = sklearn.model_selection.train_test_split(\n",
    "    sg_hdb_x, sg_hdb_y,\n",
    "    test_size=0.3, random_state=7\n",
    ")\n",
    "\n"
   ]
  },
  {
   "cell_type": "code",
   "execution_count": 17,
   "metadata": {
    "pycharm": {
     "is_executing": false
    }
   },
   "outputs": [],
   "source": [
    "# Reshaping needed when using a single variable for predictor\n",
    "sg_hdb_x_train = sg_hdb_x_train.reshape(-1,1)\n",
    "sg_hdb_x_test = sg_hdb_x_test.reshape(-1,1)\n"
   ]
  },
  {
   "cell_type": "markdown",
   "metadata": {},
   "source": [
    "We are gonna create a simple linear regression model (a.k.a best fit line) from the dataset."
   ]
  },
  {
   "cell_type": "code",
   "execution_count": 18,
   "metadata": {
    "pycharm": {
     "is_executing": false
    }
   },
   "outputs": [
    {
     "data": {
      "text/plain": [
       "LinearRegression(copy_X=True, fit_intercept=True, n_jobs=None, normalize=False)"
      ]
     },
     "execution_count": 18,
     "metadata": {},
     "output_type": "execute_result"
    }
   ],
   "source": [
    "# Initialise model\n",
    "lm = LinearRegression()\n",
    "\n",
    "# Create model from the train sets\n",
    "lm.fit(sg_hdb_x_train, sg_hdb_y_train)\n"
   ]
  },
  {
   "cell_type": "code",
   "execution_count": 19,
   "metadata": {
    "pycharm": {
     "is_executing": false
    }
   },
   "outputs": [
    {
     "name": "stdout",
     "output_type": "stream",
     "text": [
      "Coefficients: \n",
      " X: [3518.48113445] \n",
      " c: -49415.00329505594\n"
     ]
    }
   ],
   "source": [
    "# To observe the model's coefficients\n",
    "print('Coefficients: \\n X:', lm.coef_,'\\n c:', lm.intercept_)\n"
   ]
  },
  {
   "cell_type": "markdown",
   "metadata": {},
   "source": [
    "Y = mX + C"
   ]
  },
  {
   "cell_type": "markdown",
   "metadata": {},
   "source": [
    "After creating the model, we are going to evaluate its performance by pitting it against the test set.\n",
    "\n",
    "First, we use the linear model to provide us with the predictions derived from the values in the test set."
   ]
  },
  {
   "cell_type": "code",
   "execution_count": 20,
   "metadata": {
    "pycharm": {
     "is_executing": false
    }
   },
   "outputs": [
    {
     "data": {
      "text/plain": [
       "array([186323.23271299, 217989.56292303, 179286.2704441 , ...,\n",
       "       376321.21397321, 316507.03468759, 207434.11951968])"
      ]
     },
     "execution_count": 20,
     "metadata": {},
     "output_type": "execute_result"
    }
   ],
   "source": [
    "sg_hdb_y_pred = lm.predict(sg_hdb_x_test)\n",
    "sg_hdb_y_pred\n"
   ]
  },
  {
   "cell_type": "markdown",
   "metadata": {},
   "source": [
    "Thereafter, we are going to calculate the errors, pitting the predicted values with actual historical values."
   ]
  },
  {
   "cell_type": "code",
   "execution_count": 21,
   "metadata": {
    "pycharm": {
     "is_executing": false
    }
   },
   "outputs": [
    {
     "data": {
      "text/plain": [
       "0.3994763162246405"
      ]
     },
     "execution_count": 21,
     "metadata": {},
     "output_type": "execute_result"
    }
   ],
   "source": [
    "# Examine fitness of model\n",
    "r2_score(sg_hdb_y_test, sg_hdb_y_pred)\n"
   ]
  },
  {
   "cell_type": "markdown",
   "metadata": {},
   "source": [
    "Why does the model have such a score? Well, let's check how the linear model was created."
   ]
  },
  {
   "cell_type": "code",
   "execution_count": 22,
   "metadata": {
    "pycharm": {
     "is_executing": false
    },
    "scrolled": true
   },
   "outputs": [
    {
     "data": {
      "image/png": "[encoded data removed]",
      "text/plain": [
       "<Figure size 432x288 with 1 Axes>"
      ]
     },
     "metadata": {
      "needs_background": "light"
     },
     "output_type": "display_data"
    }
   ],
   "source": [
    "plt.scatter(sg_hdb_x_test, sg_hdb_y_test, color='red')\n",
    "plt.plot(sg_hdb_x_test, sg_hdb_y_pred, color='blue')\n",
    "plt.title(\" SG HDB Resale \")\n",
    "plt.xlabel('floor_area_sqm')\n",
    "plt.ylabel(\"pred_resale_price\")\n",
    "plt.show()\n",
    "\n",
    "\n",
    "\n",
    "\n"
   ]
  },
  {
   "cell_type": "markdown",
   "metadata": {},
   "source": [
    "A heavily sparsed set of data points can hardly be described by a single linear regression model, hence the low value of fitness.\n",
    "\n",
    "For the sake of this exercise, let us just proceed and export (serialise) this model for deployment. Save the model under a name, for example like the one below: 'sg_hdb_lm_v1.pkl'"
   ]
  },
  {
   "cell_type": "code",
   "execution_count": 23,
   "metadata": {
    "pycharm": {
     "is_executing": false
    }
   },
   "outputs": [],
   "source": [
    "# Specify output location of model to be serialised\n",
    "file_loc_name = '../models/sg_hdb_lm_v1.pkl'\n",
    "pickle.dump(lm, open(file_loc_name, 'wb'))\n"
   ]
  },
  {
   "cell_type": "markdown",
   "metadata": {},
   "source": [
    "Here, we just do a quick test by loading the model and then doing a single prediction to it."
   ]
  },
  {
   "cell_type": "code",
   "execution_count": 24,
   "metadata": {
    "pycharm": {
     "is_executing": false
    }
   },
   "outputs": [
    {
     "name": "stdout",
     "output_type": "stream",
     "text": [
      "[172249.3081752]\n"
     ]
    }
   ],
   "source": [
    "# Test loading saved model\n",
    "loaded_model = pickle.load(open(file_loc_name, 'rb'))\n",
    "# Create a test value for test prediction\n",
    "# Test value has to be contained in a numpy array format hence np.array\n",
    "test_val = np.array(63)\n",
    "# Reshaping value before feeding to .predict function\n",
    "test_val_reshape = test_val.reshape(-1, 1)\n",
    "# Conduct prediction\n",
    "result = loaded_model.predict(test_val_reshape)\n",
    "# Print out result\n",
    "print(result)"
   ]
  },
  {
   "cell_type": "markdown",
   "metadata": {},
   "source": [
    "Now that we have exported this model, time to create a simple API (Application Programming Interface) that allows us to use the model, potentially remotely. On to [deployment](./sg-hdb-part3-basic-deployment.ipynb)!"
   ]
  }
 ],
 "metadata": {
  "kernelspec": {
   "display_name": "Python 3",
   "language": "python",
   "name": "python3"
  },
  "language_info": {
   "codemirror_mode": {
    "name": "ipython",
    "version": 3
   },
   "file_extension": ".py",
   "mimetype": "text/x-python",
   "name": "python",
   "nbconvert_exporter": "python",
   "pygments_lexer": "ipython3",
   "version": "3.7.4"
  },
  "pycharm": {
   "stem_cell": {
    "cell_type": "raw",
    "metadata": {
     "collapsed": false
    },
    "source": []
   }
  }
 },
 "nbformat": 4,
 "nbformat_minor": 2
}
